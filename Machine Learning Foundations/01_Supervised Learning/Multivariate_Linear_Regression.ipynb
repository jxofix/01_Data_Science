{
 "cells": [
  {
   "cell_type": "markdown",
   "id": "17b19841-ddb2-4539-9013-0e6199834da4",
   "metadata": {},
   "source": [
    "# Multivariate Linear Regression"
   ]
  },
  {
   "cell_type": "markdown",
   "id": "11bcda8d-6e82-4b51-b5e8-b664f44b69b0",
   "metadata": {},
   "source": [
    "Multivariate linear regression is used when we have more than one feature x, where: <br>\n",
    "$ \\hat{y} = w_{1}*x_{1} + w_{2}*x_{2} + ... + w_{n}*x_{n} + b $\n",
    "\n",
    "in this situation w and x are vectors $ \\vec{w} $, resp. $ \\vec{x} $, so we can rewrite the formula: <br>\n",
    "Without vectorization: <br>\n",
    "$ f_{\\vec{w}, b}(\\vec{x}) = \\sum_{j=1}^{n} w_{j}*x_{j} + b \\, $   ,where n is number of features <br>\n",
    "Or in vector format: <br>\n",
    "$ f_{\\vec{w}, b}(\\vec{x}) = \\vec{w} \\cdot \\vec{x} + b $   ,where $ \\cdot $ is a dot product of two vectors <br>\n",
    "\n",
    "Note: vectorization is not necessary and we can deal with calculations using loops. The big pros of vectorization are that it is much faster than loops.\n"
   ]
  },
  {
   "cell_type": "markdown",
   "id": "2ead1b88-b0d0-42a1-80b6-9a0a31a5156a",
   "metadata": {},
   "source": [
    "## Cost function\n",
    "for cost function and gradient descent the formulas a derived from univariate with analogy to the multivariate formula above <br>\n",
    "$ J(\\vec{w}, b) = \\frac{1}{2*m}*\\sum_{i=1}^{m}(f_{\\vec{w}, b}(\\vec{x}^{(i)}) - y^{(i)})^{2} \\, $"
   ]
  },
  {
   "cell_type": "markdown",
   "id": "43eb79a4-0815-4926-905c-cc79ee55b7a8",
   "metadata": {},
   "source": [
    "## Gradient descent\n",
    "Now we have $ \\vec{w} $, that means we have to update all $ w_{1} ... w_{n} $ <br>\n",
    "<br>\n",
    "$ w_{1} = w_{1} - \\alpha * \\frac{\\partial}{\\partial w_{1}} J(\\vec{w}, b) $ ,where we have partial derivative by $ w_{1} $ <br>\n",
    "$ w_{1} = w_{1} - \\alpha * \\frac{1}{m}*\\sum_{i=1}^{m}(f_{\\vec{w}, b}(\\vec{x}^{(i)}) - y^{(i)})*x_{1}^{(i)} \\, $ <br>\n",
    "<br>\n",
    "b is a number, therefore: <br>\n",
    "$ b = b - \\alpha * \\frac{1}{m}*\\sum_{i=1}^{m}(f_{\\vec{w}, b}(\\vec{x}^{(i)}) - y^{(i)}) $"
   ]
  },
  {
   "cell_type": "markdown",
   "id": "d2dbf12a-49ba-4f85-ab2b-8c01160a5224",
   "metadata": {},
   "source": [
    "## Implementation of gradient descent for multivariate linear regression\n",
    "\n",
    "First let's load data, in this example, I will use a housing data set, which I will reduce to only 3 features and 50 records"
   ]
  },
  {
   "cell_type": "code",
   "execution_count": 1,
   "id": "d9851cec-b95b-48c0-8d91-2951621d94ed",
   "metadata": {},
   "outputs": [
    {
     "name": "stdout",
     "output_type": "stream",
     "text": [
      "(545, 13)\n",
      "      price  area  bedrooms  bathrooms  stories mainroad guestroom basement  \\\n",
      "0  13300000  7420         4          2        3      yes        no       no   \n",
      "1  12250000  8960         4          4        4      yes        no       no   \n",
      "2  12250000  9960         3          2        2      yes        no      yes   \n",
      "3  12215000  7500         4          2        2      yes        no      yes   \n",
      "4  11410000  7420         4          1        2      yes       yes      yes   \n",
      "\n",
      "  hotwaterheating airconditioning  parking prefarea furnishingstatus  \n",
      "0              no             yes        2      yes        furnished  \n",
      "1              no             yes        3       no        furnished  \n",
      "2              no              no        2      yes   semi-furnished  \n",
      "3              no             yes        3      yes        furnished  \n",
      "4              no             yes        2       no        furnished  \n"
     ]
    }
   ],
   "source": [
    "import pandas as pd\n",
    "\n",
    "df = pd.read_csv('./data/Housing.csv')\n",
    "print(df.shape)\n",
    "print(df.head())"
   ]
  },
  {
   "cell_type": "code",
   "execution_count": 16,
   "id": "fe672955-b035-4f37-9f49-2341961231b1",
   "metadata": {},
   "outputs": [
    {
     "name": "stdout",
     "output_type": "stream",
     "text": [
      "              price         area  bedrooms  bathrooms\n",
      "count  5.000000e+01    50.000000  50.00000  50.000000\n",
      "mean   4.409230e+06  4485.560000   2.82000   1.240000\n",
      "std    2.132772e+06  1721.511298   0.66055   0.431419\n",
      "min    1.890000e+06  1836.000000   2.00000   1.000000\n",
      "25%    3.080000e+06  3292.500000   2.00000   1.000000\n",
      "50%    3.902500e+06  4140.000000   3.00000   1.000000\n",
      "75%    4.838750e+06  5421.250000   3.00000   1.000000\n",
      "max    1.221500e+07  9166.000000   4.00000   2.000000\n"
     ]
    }
   ],
   "source": [
    "# let's keep just the target column (price) and area, bedrooms, and bathrooms\n",
    "df = df[['price', 'area', 'bedrooms', 'bathrooms']]\n",
    "df = df.sample(n=50) #for time simplicity we will choose only 50 rows\n",
    "\n",
    "print(df.describe())"
   ]
  },
  {
   "cell_type": "markdown",
   "id": "e82cb765-14b1-4302-a2cf-f3fe79ec09df",
   "metadata": {},
   "source": [
    "As we can see we have very different scales for each feature. The area comes from 1836 to 9166 m2 but bedrooms are just from 2 to 4. In the case when features are very different scale gradient can easily overshoot and it is recommended to perform feature normalization. There are two common feature normalizations:\n",
    "1) Z-score: $ x_{n} = \\frac{x_{n} - \\mu_{n}}{\\sigma_{n}} $ <br>\n",
    "2) MinMax : $ x_{n} = \\frac{x_{n} - \\mu_{n}}{max(x_{n}) - min(x_{n})} $\n",
    "\n",
    "We will continue with Z-score"
   ]
  },
  {
   "cell_type": "code",
   "execution_count": 22,
   "id": "6b7fe7f7-0cf6-406f-a7bd-b62fa0b58842",
   "metadata": {},
   "outputs": [
    {
     "data": {
      "text/html": [
       "<div>\n",
       "<style scoped>\n",
       "    .dataframe tbody tr th:only-of-type {\n",
       "        vertical-align: middle;\n",
       "    }\n",
       "\n",
       "    .dataframe tbody tr th {\n",
       "        vertical-align: top;\n",
       "    }\n",
       "\n",
       "    .dataframe thead th {\n",
       "        text-align: right;\n",
       "    }\n",
       "</style>\n",
       "<table border=\"1\" class=\"dataframe\">\n",
       "  <thead>\n",
       "    <tr style=\"text-align: right;\">\n",
       "      <th></th>\n",
       "      <th>price</th>\n",
       "      <th>area</th>\n",
       "      <th>bedrooms</th>\n",
       "      <th>bathrooms</th>\n",
       "      <th>area_s</th>\n",
       "      <th>bedrooms_s</th>\n",
       "      <th>bathrooms_s</th>\n",
       "    </tr>\n",
       "  </thead>\n",
       "  <tbody>\n",
       "    <tr>\n",
       "      <th>462</th>\n",
       "      <td>3080000</td>\n",
       "      <td>2160</td>\n",
       "      <td>3</td>\n",
       "      <td>1</td>\n",
       "      <td>-1.350883</td>\n",
       "      <td>0.272500</td>\n",
       "      <td>-0.556304</td>\n",
       "    </tr>\n",
       "    <tr>\n",
       "      <th>474</th>\n",
       "      <td>2975000</td>\n",
       "      <td>4352</td>\n",
       "      <td>4</td>\n",
       "      <td>1</td>\n",
       "      <td>-0.077583</td>\n",
       "      <td>1.786390</td>\n",
       "      <td>-0.556304</td>\n",
       "    </tr>\n",
       "    <tr>\n",
       "      <th>405</th>\n",
       "      <td>3465000</td>\n",
       "      <td>3060</td>\n",
       "      <td>3</td>\n",
       "      <td>1</td>\n",
       "      <td>-0.828086</td>\n",
       "      <td>0.272500</td>\n",
       "      <td>-0.556304</td>\n",
       "    </tr>\n",
       "    <tr>\n",
       "      <th>521</th>\n",
       "      <td>2408000</td>\n",
       "      <td>3635</td>\n",
       "      <td>2</td>\n",
       "      <td>1</td>\n",
       "      <td>-0.494078</td>\n",
       "      <td>-1.241389</td>\n",
       "      <td>-0.556304</td>\n",
       "    </tr>\n",
       "    <tr>\n",
       "      <th>214</th>\n",
       "      <td>4865000</td>\n",
       "      <td>4350</td>\n",
       "      <td>2</td>\n",
       "      <td>1</td>\n",
       "      <td>-0.078745</td>\n",
       "      <td>-1.241389</td>\n",
       "      <td>-0.556304</td>\n",
       "    </tr>\n",
       "  </tbody>\n",
       "</table>\n",
       "</div>"
      ],
      "text/plain": [
       "       price  area  bedrooms  bathrooms    area_s  bedrooms_s  bathrooms_s\n",
       "462  3080000  2160         3          1 -1.350883    0.272500    -0.556304\n",
       "474  2975000  4352         4          1 -0.077583    1.786390    -0.556304\n",
       "405  3465000  3060         3          1 -0.828086    0.272500    -0.556304\n",
       "521  2408000  3635         2          1 -0.494078   -1.241389    -0.556304\n",
       "214  4865000  4350         2          1 -0.078745   -1.241389    -0.556304"
      ]
     },
     "execution_count": 22,
     "metadata": {},
     "output_type": "execute_result"
    }
   ],
   "source": [
    "features = ['area', 'bedrooms', 'bathrooms']\n",
    "new_features = []\n",
    "for feature in features:\n",
    "    df[feature + '_s'] = (df[feature] - df[feature].mean()) / df[feature].std()\n",
    "    new_features.append(feature + '_s')\n",
    "\n",
    "df.head()"
   ]
  },
  {
   "cell_type": "code",
   "execution_count": 46,
   "id": "5d818085-5287-4a1a-b9f5-34002a2eaab7",
   "metadata": {},
   "outputs": [
    {
     "name": "stdout",
     "output_type": "stream",
     "text": [
      "[-0.07758299  1.78638966 -0.55630359]\n",
      "3080000\n"
     ]
    }
   ],
   "source": [
    "import numpy as np\n",
    "#split on features (X) and target (y)\n",
    "X = df[new_features]\n",
    "y = df['price']\n",
    "\n",
    "print(X.iloc[1].to_numpy())\n",
    "print(y.iloc[0])"
   ]
  },
  {
   "cell_type": "code",
   "execution_count": 53,
   "id": "38f6c23c-3c51-4e46-b6ac-6fed88156b58",
   "metadata": {},
   "outputs": [],
   "source": [
    "#calculation of gradient (a derivative of cost function J(w,b))\n",
    "def calc_gradient(x, y, w, b):\n",
    "    m, n = x.shape\n",
    "    de_w = np.zeros((n,))\n",
    "    de_b = 0\n",
    "    \n",
    "    for i in range(m):\n",
    "        x_i = X.iloc[i].to_numpy()  #convert pandas row to numpy vector\n",
    "        err = np.dot(x_i, w) + b - y.iloc[i]  #calculate error\n",
    "        for j in range(n):\n",
    "            de_w[j] += err*x_i[j]     #update weights\n",
    "        de_b += err     # update bias\n",
    "\n",
    "    de_w = de_w / m\n",
    "    de_b = de_b / m\n",
    "    \n",
    "    return de_w, de_b\n",
    "\n",
    "#updating w, b value to the local minima\n",
    "def gradient_descent(x, y, w_in, b_in, alpha, num_iter):\n",
    "    for i in range(num_iter):\n",
    "        de_w, de_b = calc_gradient(x, y, w_in, b_in)  # get gradient\n",
    "        w_in = w_in - alpha * de_w\n",
    "        b_in = b_in - alpha * de_b\n",
    "\n",
    "        if i % 1000 == 0:\n",
    "            print(f'Iteration {i:4} | w : {w_in} | b : {b_in: 8.2f}')\n",
    "    return w_in, b_in"
   ]
  },
  {
   "cell_type": "code",
   "execution_count": 54,
   "id": "0cc75bd3-251a-49ad-bcfb-a9937ce1711b",
   "metadata": {},
   "outputs": [
    {
     "name": "stdout",
     "output_type": "stream",
     "text": [
      "Iteration    0 | w : [13904.55226104  6548.04764115 12919.79855138] | b :  44092.30\n",
      "Iteration 1000 | w : [1125702.76797782  207819.00591714  905944.12633548] | b :  4409041.55\n",
      "Iteration 2000 | w : [1125612.01387661  207496.83086716  906284.69040665] | b :  4409229.99\n",
      "Iteration 3000 | w : [1125611.41429131  207495.9314091   906285.89493106] | b :  4409230.00\n",
      "Iteration 4000 | w : [1125611.41216074  207495.92831336  906285.8991261 ] | b :  4409230.00\n",
      "Iteration 5000 | w : [1125611.41215332  207495.92830259  906285.8991407 ] | b :  4409230.00\n",
      "Iteration 6000 | w : [1125611.41215331  207495.92830256  906285.89914074] | b :  4409230.00\n",
      "Iteration 7000 | w : [1125611.41215331  207495.92830256  906285.89914074] | b :  4409230.00\n",
      "Iteration 8000 | w : [1125611.41215331  207495.92830256  906285.89914074] | b :  4409230.00\n",
      "Iteration 9000 | w : [1125611.41215331  207495.92830256  906285.89914074] | b :  4409230.00\n",
      "(w,b) found by gradient descent: ([1125611.41215331  207495.92830256  906285.89914074], 4409230.0000)\n"
     ]
    }
   ],
   "source": [
    "# initialize parameters\n",
    "w_init = np.zeros((X.shape[1],))\n",
    "b_init = 0\n",
    "\n",
    "num_iters = 10000\n",
    "alpha = 1.0e-2\n",
    "\n",
    "w_fin, b_fin = gradient_descent(X, y, w_init, b_init, alpha, num_iters)\n",
    "print(f'(w,b) found by gradient descent: ({w_fin}, {b_fin:8.4f})')"
   ]
  },
  {
   "cell_type": "markdown",
   "id": "56c083a6-e197-408d-ab51-e5618b191d10",
   "metadata": {},
   "source": [
    "#### We have found optimal weights ($\\vec{w}$) and bias (b)\n",
    "### Let's compare results with sci-kit learn library"
   ]
  },
  {
   "cell_type": "code",
   "execution_count": 69,
   "id": "f56bd35c-cc1d-4f5f-87fd-a2868fe9e0e4",
   "metadata": {},
   "outputs": [
    {
     "name": "stdout",
     "output_type": "stream",
     "text": [
      "w => manually: [1125611.4122  207495.9283  906285.8991]  |  sklearn  [1125611.4122  207495.9283  906285.8991]   |  diff: [ 0.  0. -0.]\n",
      "b => manually: 4409230.0000  |  sklearn  4409230.0000   |  diff:  -0.0000\n"
     ]
    }
   ],
   "source": [
    "from sklearn.linear_model import LinearRegression\n",
    "\n",
    "lr_model = LinearRegression()\n",
    "\n",
    "lr_model.fit(X, y)\n",
    "y_pred = lr_model.predict(X)\n",
    "\n",
    "sk_w = lr_model.coef_\n",
    "sk_b = lr_model.intercept_\n",
    "np.set_printoptions(precision=4)  #numpy print only 4 decimal places\n",
    "w_diff = (w_fin - sk_w).round(decimals=4)\n",
    "print(f'w => manually: {w_fin}  |  sklearn  {sk_w}   |  diff: {w_diff}')\n",
    "print(f'b => manually: {b_fin:8.4f}  |  sklearn  {sk_b:8.4f}   |  diff: {b_fin - sk_b:8.4f}')"
   ]
  },
  {
   "cell_type": "code",
   "execution_count": null,
   "id": "8e08e37e-30f3-474b-95e6-5e9046273707",
   "metadata": {},
   "outputs": [],
   "source": []
  }
 ],
 "metadata": {
  "kernelspec": {
   "display_name": "Python 3 (ipykernel)",
   "language": "python",
   "name": "python3"
  },
  "language_info": {
   "codemirror_mode": {
    "name": "ipython",
    "version": 3
   },
   "file_extension": ".py",
   "mimetype": "text/x-python",
   "name": "python",
   "nbconvert_exporter": "python",
   "pygments_lexer": "ipython3",
   "version": "3.11.4"
  }
 },
 "nbformat": 4,
 "nbformat_minor": 5
}
